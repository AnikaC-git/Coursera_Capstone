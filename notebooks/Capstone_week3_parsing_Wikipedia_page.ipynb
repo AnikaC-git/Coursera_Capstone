{
 "cells": [
  {
   "cell_type": "markdown",
   "metadata": {},
   "source": [
    "# Capstone project -- week 3 -- download neighborhoods table\n",
    "\n",
    "This is the first of three notebooks requested in the week 3 assignment of the Capstone project Coursera course. The first task to be addressed is to download a table of postcodes for Toronto neighborhoods from Wikipedia. The link was provided in the submission instructions of the assignment. The resulting dataframe will be stored locally so that it then can be used for the other two parts of the assignment."
   ]
  },
  {
   "cell_type": "code",
   "execution_count": 1,
   "metadata": {},
   "outputs": [],
   "source": [
    "import pandas as pd\n",
    "import requests\n",
    "from bs4 import BeautifulSoup\n",
    "\n",
    "WIKI_PAGE_TORONTO = r\"https://en.wikipedia.org/wiki/List_of_postal_codes_of_Canada:_M\"\n",
    "OUTPUT_FILE = r\"../data/postal_codes_toronto.csv\""
   ]
  },
  {
   "cell_type": "code",
   "execution_count": 2,
   "metadata": {},
   "outputs": [
    {
     "data": {
      "text/html": [
       "<div>\n",
       "<style scoped>\n",
       "    .dataframe tbody tr th:only-of-type {\n",
       "        vertical-align: middle;\n",
       "    }\n",
       "\n",
       "    .dataframe tbody tr th {\n",
       "        vertical-align: top;\n",
       "    }\n",
       "\n",
       "    .dataframe thead th {\n",
       "        text-align: right;\n",
       "    }\n",
       "</style>\n",
       "<table border=\"1\" class=\"dataframe\">\n",
       "  <thead>\n",
       "    <tr style=\"text-align: right;\">\n",
       "      <th></th>\n",
       "      <th>Postal Code</th>\n",
       "      <th>Borough</th>\n",
       "      <th>Neighborhood</th>\n",
       "    </tr>\n",
       "  </thead>\n",
       "  <tbody>\n",
       "    <tr>\n",
       "      <th>0</th>\n",
       "      <td>M1A</td>\n",
       "      <td>Not assigned</td>\n",
       "      <td>Not assigned</td>\n",
       "    </tr>\n",
       "    <tr>\n",
       "      <th>1</th>\n",
       "      <td>M2A</td>\n",
       "      <td>Not assigned</td>\n",
       "      <td>Not assigned</td>\n",
       "    </tr>\n",
       "    <tr>\n",
       "      <th>2</th>\n",
       "      <td>M3A</td>\n",
       "      <td>North York</td>\n",
       "      <td>Parkwoods</td>\n",
       "    </tr>\n",
       "    <tr>\n",
       "      <th>3</th>\n",
       "      <td>M4A</td>\n",
       "      <td>North York</td>\n",
       "      <td>Victoria Village</td>\n",
       "    </tr>\n",
       "    <tr>\n",
       "      <th>4</th>\n",
       "      <td>M5A</td>\n",
       "      <td>Downtown Toronto</td>\n",
       "      <td>Regent Park, Harbourfront</td>\n",
       "    </tr>\n",
       "  </tbody>\n",
       "</table>\n",
       "</div>"
      ],
      "text/plain": [
       "  Postal Code           Borough               Neighborhood\n",
       "0         M1A      Not assigned               Not assigned\n",
       "1         M2A      Not assigned               Not assigned\n",
       "2         M3A        North York                  Parkwoods\n",
       "3         M4A        North York           Victoria Village\n",
       "4         M5A  Downtown Toronto  Regent Park, Harbourfront"
      ]
     },
     "execution_count": 2,
     "metadata": {},
     "output_type": "execute_result"
    }
   ],
   "source": [
    "source = requests.get(WIKI_PAGE_TORONTO)\n",
    "soup = BeautifulSoup(source.content,'lxml')\n",
    "table = soup.find_all('table')\n",
    "df_toronto = pd.read_html(str(table))[0]\n",
    "df_toronto.head() \n"
   ]
  },
  {
   "cell_type": "markdown",
   "metadata": {},
   "source": [
    "While the above table contains all the entries as detailed in the Wikipedia page, the instructions further advise to:\n",
    "\n",
    "* remove lines from the data frame where \"Borough\" is \"Not assigned\" and\n",
    "* each postal code is listed only once with its neighborhoods separated by comma\n",
    "* if a borough has been assigned, but the neighborhood is \"Not assigned\" then the name of the borough will be used as neighborhood name\n"
   ]
  },
  {
   "cell_type": "code",
   "execution_count": 3,
   "metadata": {},
   "outputs": [],
   "source": [
    "# remove all rows from the dataframe where Borough is \"Not assigned\"\n",
    "df_toronto.drop(df_toronto[df_toronto['Borough'] == 'Not assigned'].index, axis=0, inplace=True)"
   ]
  },
  {
   "cell_type": "markdown",
   "metadata": {},
   "source": [
    "Now that all the \"Not assigned\" boroughs have been removed, the other two requirements can be addressed. Manually inspecting the data suggests that both incidences no longer occur in the data set. However, as things can be missed, let's do two tests to confirm that this observation is correct."
   ]
  },
  {
   "cell_type": "code",
   "execution_count": 4,
   "metadata": {},
   "outputs": [
    {
     "name": "stdout",
     "output_type": "stream",
     "text": [
      "Empty DataFrame\n",
      "Columns: [Postal Code, Borough, Neighborhood]\n",
      "Index: []\n"
     ]
    }
   ],
   "source": [
    "# check whether there are neighborhoods \"Not assigned\"\n",
    "print(df_toronto[df_toronto['Neighborhood'] == 'Not assigned'])"
   ]
  },
  {
   "cell_type": "markdown",
   "metadata": {},
   "source": [
    "Querying the data frame for rows where \"Neighborhood\" is \"Not assigned\" returns an empty data set, i.e. there are no longer rows that have a \"Not assigned\" value that would need to be filtered out."
   ]
  },
  {
   "cell_type": "code",
   "execution_count": 5,
   "metadata": {},
   "outputs": [
    {
     "name": "stdout",
     "output_type": "stream",
     "text": [
      "103\n",
      "103\n"
     ]
    }
   ],
   "source": [
    "# check duplicates in post code\n",
    "print(len(df_toronto['Postal Code'])) # printing all postal codes that are in data frame\n",
    "print(len(set(list(df_toronto['Postal Code'])))) # printing only unique postal codes in data frame"
   ]
  },
  {
   "cell_type": "markdown",
   "metadata": {},
   "source": [
    "The first print statement effectively determines how many rows there are in the data frame df_toronto. If multiple  entries for postal codes had the same value, printing the number of unique values in this column should be smaller. However, as both print statements return the same result, there are no longer duplicates of postal codes. Looking at the in the instructions referenced postal code 'M5A' indicates that the desired of comma-separated neighborhoods is already present in the data. Therefore, no further actions need to be taken and the shape can be plotted and the data saved for subsequent use."
   ]
  },
  {
   "cell_type": "code",
   "execution_count": 6,
   "metadata": {},
   "outputs": [
    {
     "name": "stdout",
     "output_type": "stream",
     "text": [
      "(103, 3)\n"
     ]
    }
   ],
   "source": [
    "print(df_toronto.shape)"
   ]
  },
  {
   "cell_type": "markdown",
   "metadata": {},
   "source": [
    "<p style=\"line-height:1.4\"><b><font size=12>There is neighborhood information for 103 Toronto postal codes.</font></b><p>"
   ]
  },
  {
   "cell_type": "code",
   "execution_count": 7,
   "metadata": {},
   "outputs": [],
   "source": [
    "df_toronto.to_csv(OUTPUT_FILE, index=False)"
   ]
  }
 ],
 "metadata": {
  "kernelspec": {
   "display_name": "Python 3",
   "language": "python",
   "name": "python3"
  },
  "language_info": {
   "codemirror_mode": {
    "name": "ipython",
    "version": 3
   },
   "file_extension": ".py",
   "mimetype": "text/x-python",
   "name": "python",
   "nbconvert_exporter": "python",
   "pygments_lexer": "ipython3",
   "version": "3.7.7"
  }
 },
 "nbformat": 4,
 "nbformat_minor": 2
}
