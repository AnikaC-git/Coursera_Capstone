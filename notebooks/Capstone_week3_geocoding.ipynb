{
 "cells": [
  {
   "cell_type": "markdown",
   "metadata": {},
   "source": [
    "# Capstone project -- week 3 -- geocoding neighborhoods table\n",
    "\n",
    "This notebook addresses the second part of the week 3 assignment: adding geospatial information (i.e. longitude and lattitude to the postal codes. While initially the geocoding was attempted through geocoder, now reliable results were produced from the API. Therefore, the <a href=\"http://cocl.us/Geospatial_data\">file</a> provided in the instructions was used to add geospatial information to each row of the Toronto postal code data frame.\n",
    "\n",
    "This work follows on from the first notebook referenced on the submission and available <a href=\"https://github.com/AnikaC-git/Coursera_Capstone/blob/master/notebooks/Capstone_week3_parsing_Wikipedia_page.ipynb\">here</a>.\n"
   ]
  },
  {
   "cell_type": "code",
   "execution_count": 1,
   "metadata": {},
   "outputs": [],
   "source": [
    "import pandas as pd\n",
    "\n",
    "INPUT_FILE = r\"../data/postal_codes_toronto.csv\" # this file was generated with the previous notebook\n",
    "INPUT_GEO_URL = r\"http://cocl.us/Geospatial_data\" # geospatial data as provided in instructions\n",
    "OUTPUT_FILE = r\"../data/postal_codes_toronto_geocoded.csv\""
   ]
  },
  {
   "cell_type": "code",
   "execution_count": 2,
   "metadata": {},
   "outputs": [
    {
     "name": "stdout",
     "output_type": "stream",
     "text": [
      "  Postal Code           Borough                                 Neighborhood\n",
      "0         M3A        North York                                    Parkwoods\n",
      "1         M4A        North York                             Victoria Village\n",
      "2         M5A  Downtown Toronto                    Regent Park, Harbourfront\n",
      "3         M6A        North York             Lawrence Manor, Lawrence Heights\n",
      "4         M7A  Downtown Toronto  Queen's Park, Ontario Provincial Government\n",
      "(103, 3)\n"
     ]
    }
   ],
   "source": [
    "# read data previously downloaded from Wikipedia into dataframe\n",
    "df_toronto = pd.read_csv(INPUT_FILE)\n",
    "print(df_toronto.head())\n",
    "print(df_toronto.shape)"
   ]
  },
  {
   "cell_type": "code",
   "execution_count": 3,
   "metadata": {},
   "outputs": [
    {
     "name": "stdout",
     "output_type": "stream",
     "text": [
      "  Postal Code           Borough                                 Neighborhood  \\\n",
      "0         M3A        North York                                    Parkwoods   \n",
      "1         M4A        North York                             Victoria Village   \n",
      "2         M5A  Downtown Toronto                    Regent Park, Harbourfront   \n",
      "3         M6A        North York             Lawrence Manor, Lawrence Heights   \n",
      "4         M7A  Downtown Toronto  Queen's Park, Ontario Provincial Government   \n",
      "\n",
      "  Longitude Latitude  \n",
      "0      None     None  \n",
      "1      None     None  \n",
      "2      None     None  \n",
      "3      None     None  \n",
      "4      None     None  \n"
     ]
    }
   ],
   "source": [
    "# add two columns for longitude and latitude to the data frame\n",
    "df_toronto['Longitude'] = None\n",
    "df_toronto['Latitude'] = None\n",
    "print(df_toronto.head())"
   ]
  },
  {
   "cell_type": "code",
   "execution_count": 4,
   "metadata": {},
   "outputs": [
    {
     "name": "stdout",
     "output_type": "stream",
     "text": [
      "  Postal Code   Latitude  Longitude\n",
      "0         M1B  43.806686 -79.194353\n",
      "1         M1C  43.784535 -79.160497\n",
      "2         M1E  43.763573 -79.188711\n",
      "3         M1G  43.770992 -79.216917\n",
      "4         M1H  43.773136 -79.239476\n"
     ]
    }
   ],
   "source": [
    "# read geospatial data from data file provided in instructions\n",
    "df_geo = pd.read_csv(INPUT_GEO_URL)\n",
    "print(df_geo.head())"
   ]
  },
  {
   "cell_type": "code",
   "execution_count": 5,
   "metadata": {},
   "outputs": [
    {
     "name": "stdout",
     "output_type": "stream",
     "text": [
      "  Postal Code           Borough                                 Neighborhood  \\\n",
      "0         M3A        North York                                    Parkwoods   \n",
      "1         M4A        North York                             Victoria Village   \n",
      "2         M5A  Downtown Toronto                    Regent Park, Harbourfront   \n",
      "3         M6A        North York             Lawrence Manor, Lawrence Heights   \n",
      "4         M7A  Downtown Toronto  Queen's Park, Ontario Provincial Government   \n",
      "\n",
      "  Longitude Latitude  \n",
      "0  -79.3297  43.7533  \n",
      "1  -79.3156  43.7259  \n",
      "2  -79.3606  43.6543  \n",
      "3  -79.4648  43.7185  \n",
      "4  -79.3895  43.6623  \n"
     ]
    }
   ],
   "source": [
    "# merging both data sets together\n",
    "for ind, row in df_toronto.iterrows():\n",
    "    # retrieving entry from geospatial data set\n",
    "    res = df_geo[df_geo['Postal Code'] == row['Postal Code']].index\n",
    "    # assigning lat and long value to the neighborhoods' table\n",
    "    df_toronto.loc[ind, 'Latitude'] = df_geo.loc[res[0], 'Latitude']\n",
    "    df_toronto.loc[ind, 'Longitude'] = df_geo.loc[res[0], 'Longitude']\n",
    "print(df_toronto.head()) "
   ]
  },
  {
   "cell_type": "code",
   "execution_count": 6,
   "metadata": {},
   "outputs": [
    {
     "name": "stdout",
     "output_type": "stream",
     "text": [
      "Empty DataFrame\n",
      "Columns: [Postal Code, Borough, Neighborhood, Longitude, Latitude]\n",
      "Index: []\n",
      "Empty DataFrame\n",
      "Columns: [Postal Code, Borough, Neighborhood, Longitude, Latitude]\n",
      "Index: []\n"
     ]
    }
   ],
   "source": [
    "# checking that there are no empty values for Longitude and Latitude\n",
    "print(df_toronto[df_toronto['Latitude'] == None])\n",
    "print(df_toronto[df_toronto['Longitude'] == None])"
   ]
  },
  {
   "cell_type": "markdown",
   "metadata": {},
   "source": [
    "Seeing that both queries return an empty data frame, all the dummy values have been replaced with entries from the geospatial data set provided. The data set can now be saved for the third part of the assignment."
   ]
  },
  {
   "cell_type": "code",
   "execution_count": 7,
   "metadata": {},
   "outputs": [],
   "source": [
    "df_toronto.to_csv(OUTPUT_FILE, index=False)"
   ]
  }
 ],
 "metadata": {
  "kernelspec": {
   "display_name": "Python 3",
   "language": "python",
   "name": "python3"
  },
  "language_info": {
   "codemirror_mode": {
    "name": "ipython",
    "version": 3
   },
   "file_extension": ".py",
   "mimetype": "text/x-python",
   "name": "python",
   "nbconvert_exporter": "python",
   "pygments_lexer": "ipython3",
   "version": "3.7.7"
  }
 },
 "nbformat": 4,
 "nbformat_minor": 2
}
